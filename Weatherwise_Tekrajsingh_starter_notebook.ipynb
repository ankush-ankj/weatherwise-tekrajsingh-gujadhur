{
  "cells": [
    {
      "cell_type": "markdown",
      "metadata": {
        "id": "view-in-github"
      },
      "source": [
        "<a href=\"https://colab.research.google.com/github/michael-borck/weatherwise-template/blob/main/starter_notebook.ipynb\" target=\"_parent\"><img src=\"https://colab.research.google.com/assets/colab-badge.svg\" alt=\"Open In Colab\"/></a>"
      ],
      "id": "view-in-github"
    },
    {
      "cell_type": "markdown",
      "id": "72e78a05",
      "metadata": {
        "id": "72e78a05"
      },
      "source": [
        "# 🌦️ WeatherWise – Starter Notebook\n",
        "\n",
        "Welcome to your **WeatherWise** project notebook! This scaffold is designed to help you build your weather advisor app using Python, visualisations, and AI-enhanced development.\n",
        "\n",
        "---\n",
        "\n",
        "📄 **Full Assignment Specification**  \n",
        "See [`ASSIGNMENT.md`](ASSIGNMENT.md) or check the LMS for full details.\n",
        "\n",
        "📝 **Quick Refresher**  \n",
        "A one-page summary is available in [`resources/assignment-summary.md`](resources/assignment-summary.md).\n",
        "\n",
        "---\n",
        "\n",
        "🧠 **This Notebook Structure is Optional**  \n",
        "You’re encouraged to reorganise, rename sections, or remove scaffold cells if you prefer — as long as your final version meets the requirements.\n",
        "\n",
        "✅ You may delete this note before submission.\n",
        "\n"
      ]
    },
    {
      "cell_type": "markdown",
      "id": "fa8c7f6c",
      "metadata": {
        "id": "fa8c7f6c"
      },
      "source": [
        "## 🧰 Setup and Imports\n",
        "\n",
        "This section imports commonly used packages and installs any additional tools used in the project.\n",
        "\n",
        "- You may not need all of these unless you're using specific features (e.g. visualisations, advanced prompting).\n",
        "- The notebook assumes the following packages are **pre-installed** in the provided environment or installable via pip:\n",
        "  - `requests`, `matplotlib`, `pyinputplus`\n",
        "  - `fetch-my-weather` (for accessing weather data easily)\n",
        "  - `hands-on-ai` (for AI logging, comparisons, or prompting tools)\n",
        "\n",
        "If you're running this notebook in **Google Colab**, uncomment the following lines to install the required packages.\n"
      ]
    },
    {
      "cell_type": "code",
      "execution_count": null,
      "id": "70c3f3f1",
      "metadata": {
        "id": "70c3f3f1"
      },
      "outputs": [],
      "source": [
        "# 🧪 Optional packages — uncomment if needed in Colab or JupyterHub\n",
        "!pip install fetch-my-weather\n",
        "!pip install hands-on-ai\n"
      ]
    },
    {
      "cell_type": "markdown",
      "id": "59ae7543",
      "metadata": {
        "id": "59ae7543"
      },
      "source": [
        "## 📦 Setup and Configuration\n",
        "Import required packages and setup environment."
      ]
    },
    {
      "cell_type": "code",
      "execution_count": null,
      "id": "f1dd051e",
      "metadata": {
        "id": "f1dd051e"
      },
      "outputs": [],
      "source": [
        "!pip install pyinputplus\n",
        "\n",
        "import requests\n",
        "import matplotlib.pyplot as plt\n",
        "import pyinputplus as pyip\n",
        "from datetime import datetime, timedelta\n",
        "from typing import Optional, Dict, List"
      ]
    },
    {
      "cell_type": "markdown",
      "id": "f736ade3",
      "metadata": {
        "id": "f736ade3"
      },
      "source": [
        "## 🌤️ Weather Data Functions"
      ]
    },
    {
      "cell_type": "code",
      "execution_count": null,
      "id": "7a2c7cd0",
      "metadata": {
        "id": "7a2c7cd0"
      },
      "outputs": [],
      "source": [
        "def get_weather_data(location, forecast_days=5):\n",
        "    \"\"\"\n",
        "    Retrieve weather data for a specified location.\n",
        "    \"\"\"\n",
        "    fetcher = WeatherFetcher()\n",
        "    return fetcher.get_weather(location, forecast_days)"
      ]
    },
    {
      "cell_type": "markdown",
      "id": "8a744fdc",
      "metadata": {
        "id": "8a744fdc"
      },
      "source": [
        "## 📊 Visualisation Functions"
      ]
    },
    {
      "cell_type": "code",
      "execution_count": null,
      "id": "9dc3bf85",
      "metadata": {
        "id": "9dc3bf85"
      },
      "outputs": [],
      "source": [
        "def create_temperature_visualisation(weather_data, output_type='display'):\n",
        "    \"\"\"\n",
        "    Create visualisation of temperature data.\n",
        "    \"\"\"\n",
        "    visualizer = WeatherVisualizer()\n",
        "    visualizer.show_temperature_trend(weather_data)\n",
        "\n",
        "def create_precipitation_visualisation(weather_data, output_type='display'):\n",
        "    \"\"\"\n",
        "    Create visualisation of precipitation data.\n",
        "    \"\"\"\n",
        "    visualizer = WeatherVisualizer()\n",
        "    visualizer.show_precipitation(weather_data)\n"
      ]
    },
    {
      "cell_type": "markdown",
      "id": "9f95d160",
      "metadata": {
        "id": "9f95d160"
      },
      "source": [
        "## 🤖 Natural Language Processing"
      ]
    },
    {
      "cell_type": "code",
      "execution_count": null,
      "id": "bcc5833e",
      "metadata": {
        "id": "bcc5833e"
      },
      "outputs": [],
      "source": [
        "def parse_weather_question(question):\n",
        "    \"\"\"\n",
        "    Parse a natural language weather question.\n",
        "    \"\"\"\n",
        "    parser = WeatherParser()\n",
        "    return parser.parse_question(question)\n",
        "\n",
        "def generate_weather_response(parsed_question, weather_data):\n",
        "    \"\"\"\n",
        "    Generate a natural language response to a weather question.\n",
        "    \"\"\"\n",
        "    class ResponseGenerator:\n",
        "        def __init__(self, weather_data):\n",
        "            self.weather_data = weather_data\n",
        "            self.parser = WeatherParser()\n",
        "\n",
        "        def _generate_response(self, parsed: Dict) -> str:\n",
        "            # ... (include your existing _generate_response logic here)\n",
        "\n",
        "    generator = ResponseGenerator(weather_data)\n",
        "    return generator._generate_response(parsed_question)"
      ]
    },
    {
      "cell_type": "markdown",
      "id": "0d85225e",
      "metadata": {
        "id": "0d85225e"
      },
      "source": [
        "## 🧭 User Interface"
      ]
    },
    {
      "cell_type": "code",
      "execution_count": null,
      "id": "fa6cb0f6",
      "metadata": {
        "id": "fa6cb0f6"
      },
      "outputs": [],
      "source": [
        "class WeatherInterface:\n",
        "    # ... (keep your existing WeatherInterface class as is)"
      ]
    },
    {
      "cell_type": "markdown",
      "id": "d643a53c",
      "metadata": {
        "id": "d643a53c"
      },
      "source": [
        "## 🧩 Main Application Logic"
      ]
    },
    {
      "cell_type": "code",
      "execution_count": null,
      "id": "a9e2e805",
      "metadata": {
        "id": "a9e2e805"
      },
      "outputs": [],
      "source": [
        "if __name__ == \"__main__\":\n",
        "    app = WeatherInterface()\n",
        "    app.run()"
      ]
    },
    {
      "cell_type": "markdown",
      "id": "fde44479",
      "metadata": {
        "id": "fde44479"
      },
      "source": [
        "## 🧪 Testing and Examples"
      ]
    },
    {
      "cell_type": "code",
      "execution_count": null,
      "id": "4e573901",
      "metadata": {
        "id": "4e573901"
      },
      "outputs": [],
      "source": [
        "# 🧪 Testing and Examples\n",
        "\n",
        "# Sample Weather Data Structure (for testing)\n",
        "SAMPLE_WEATHER_DATA = {\n",
        "    \"current\": {\n",
        "        \"temp_C\": \"18\",\n",
        "        \"weatherDesc\": \"Partly cloudy\",\n",
        "        \"precipMM\": \"0.2\",\n",
        "        \"humidity\": \"65\",\n",
        "        \"windspeedKmph\": \"15\"\n",
        "    },\n",
        "    \"forecast\": [\n",
        "        {\n",
        "            \"date\": \"2024-03-20\",\n",
        "            \"maxtempC\": \"20\",\n",
        "            \"mintempC\": \"12\",\n",
        "            \"avgtempC\": \"16\",\n",
        "            \"precipMM\": \"1.5\",\n",
        "            \"weatherDesc\": \"Light rain\"\n",
        "        },\n",
        "        {\n",
        "            \"date\": \"2024-03-21\",\n",
        "            \"maxtempC\": \"22\",\n",
        "            \"mintempC\": \"14\",\n",
        "            \"avgtempC\": \"18\",\n",
        "            \"precipMM\": \"0.0\",\n",
        "            \"weatherDesc\": \"Sunny\"\n",
        "        }\n",
        "    ]\n",
        "}\n",
        "\n",
        "def test_get_weather_data():\n",
        "    \"\"\"Test weather data fetching\"\"\"\n",
        "    print(\"🌤️ Testing get_weather_data()\")\n",
        "\n",
        "    # Valid location\n",
        "    print(\"\\nTest Case 1: Valid location (London)\")\n",
        "    data = get_weather_data(\"London\", 2)\n",
        "    print(f\"Response keys: {list(data.keys()) if data else 'No data'}\")\n",
        "    # Expected output: dict with 'current' and 'forecast' keys\n",
        "\n",
        "    # Invalid location\n",
        "    print(\"\\nTest Case 2: Invalid location (InvalidCityXYZ)\")\n",
        "    data = get_weather_data(\"InvalidCityXYZ\")\n",
        "    print(f\"Response: {data}\")  # Expected: None\n",
        "\n",
        "def test_visualizations():\n",
        "    \"\"\"Test visualization functions\"\"\"\n",
        "    print(\"\\n📊 Testing create_temperature_visualisation()\")\n",
        "    create_temperature_visualisation(SAMPLE_WEATHER_DATA)\n",
        "    # Expected: Displays temperature plot with 2 days\n",
        "\n",
        "    print(\"\\n🌧️ Testing create_precipitation_visualisation()\")\n",
        "    create_precipitation_visualisation(SAMPLE_WEATHER_DATA)\n",
        "    # Expected: Displays precipitation bar chart\n",
        "\n",
        "def test_question_parsing():\n",
        "    \"\"\"Test natural language processing\"\"\"\n",
        "    print(\"\\n🤖 Testing parse_weather_question()\")\n",
        "\n",
        "    questions = [\n",
        "        \"Will it rain in Paris tomorrow?\",\n",
        "        \"What's the temperature in New York today?\",\n",
        "        \"How windy will it be this weekend?\",\n",
        "        \"Is it humid in Tokyo?\"\n",
        "    ]\n",
        "\n",
        "    for q in questions:\n",
        "        print(f\"\\nQuestion: {q}\")\n",
        "        parsed = parse_weather_question(q)\n",
        "        print(f\"Parsed: {parsed}\")\n",
        "        # Sample output for \"Will it rain in Paris tomorrow?\":\n",
        "        # {'location': 'paris', 'time': 'tomorrow', 'attribute': 'precipitation'}\n",
        "\n",
        "def test_response_generation():\n",
        "    \"\"\"Test response generation\"\"\"\n",
        "    print(\"\\n💬 Testing generate_weather_response()\")\n",
        "\n",
        "    test_cases = [\n",
        "        (\n",
        "            {\"location\": \"london\", \"time\": \"today\", \"attribute\": \"temperature\"},\n",
        "            \"The temperature in london today is 18°C.\"\n",
        "        ),\n",
        "        (\n",
        "            {\"location\": \"london\", \"time\": \"tomorrow\", \"attribute\": \"precipitation\"},\n",
        "            \"There might be some rain (1.5mm) in london tomorrow.\"\n",
        "        )\n",
        "    ]\n",
        "\n",
        "    for question, expected in test_cases:\n",
        "        print(f\"\\nInput: {question}\")\n",
        "        response = generate_weather_response(question, SAMPLE_WEATHER_DATA)\n",
        "        print(f\"Response: {response}\")\n",
        "        print(f\"Expected: {expected}\")\n",
        "\n",
        "def test_user_interface():\n",
        "    \"\"\"Simulate user interactions\"\"\"\n",
        "    print(\"\\n👤 Testing Weather Interface - Simulation\")\n",
        "\n",
        "    # Simulate setting location\n",
        "    print(\"\\n1. Setting location to 'London'\")\n",
        "    fetcher = WeatherFetcher()\n",
        "    data = fetcher.get_weather(\"London\")\n",
        "    print(f\"Weather data {'received' if data else 'not received'}\")\n",
        "\n",
        "    # Simulate current weather check\n",
        "    print(\"\\n2. Checking current weather:\")\n",
        "    if data:\n",
        "        current = data[\"current\"]\n",
        "        print(f\"Condition: {current['weatherDesc']}\")\n",
        "        print(f\"Temperature: {current['temp_C']}°C\")\n",
        "\n",
        "    # Simulate forecast request\n",
        "    print(\"\\n3. 2-day forecast:\")\n",
        "    if data and len(data[\"forecast\"]) >= 2:\n",
        "        for day in data[\"forecast\"][:2]:\n",
        "            print(f\"{day['date']}: {day['weatherDesc']}\")\n",
        "\n",
        "def run_all_tests():\n",
        "    \"\"\"Run all test cases\"\"\"\n",
        "    test_get_weather_data()\n",
        "    test_visualizations()\n",
        "    test_question_parsing()\n",
        "    test_response_generation()\n",
        "    test_user_interface()\n",
        "    print(\"\\n✅ All tests completed!\")\n",
        "\n",
        "# Uncomment to run tests\n",
        "# run_all_tests()"
      ]
    },
    {
      "cell_type": "markdown",
      "id": "d2885880",
      "metadata": {
        "id": "d2885880"
      },
      "source": [
        "## 🗂️ AI Prompting Log (Optional)\n",
        "Add markdown cells here summarising prompts used or link to AI conversations in the `ai-conversations/` folder."
      ]
    }
  ],
  "metadata": {
    "language_info": {
      "name": "python"
    },
    "colab": {
      "provenance": []
    },
    "kernelspec": {
      "name": "python3",
      "display_name": "Python 3"
    }
  },
  "nbformat": 4,
  "nbformat_minor": 5
}